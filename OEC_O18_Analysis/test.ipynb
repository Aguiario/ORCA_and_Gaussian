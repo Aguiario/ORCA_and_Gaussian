{
 "cells": [
  {
   "cell_type": "code",
   "execution_count": 1,
   "metadata": {},
   "outputs": [
    {
     "name": "stdout",
     "output_type": "stream",
     "text": [
      "Processing file: data\\OEC_S1_1d2prime_BP86_Carter1_freq_18O6.log\n",
      "Processing file: data\\OEC_S1_1d2prime_BP86_Carter1_freq_18O_five_exchangable.log\n",
      "Processing file: data\\OEC_S2_1d2prime_deprot_freq_18O6.log\n",
      "Processing file: data\\OEC_S2_1d2prime_deprot_freq_4_18O.log\n",
      "Processing file: data\\OEC_Shen_S3OO_try_spin3_18O18O_freq.log\n",
      "Processing file: data\\OEC_Shen_spin7_charge_minus1_freq_18O40.log\n",
      "Processing file: data\\OEC_Shen_spin7_charge_minus1_freq_18O_six_exchangable.log\n",
      "Processing file: data\\OEC_Shen_spin7_m1_freq_Mn1OH_18O_6_exchangable.log\n",
      "Processing file: data\\OEC_Shen_spin7_m1_freq_Mn1OH_isomer_18O110.log\n"
     ]
    }
   ],
   "source": [
    "import mining as utl\n",
    "\n",
    "directory = r\"data\"\n",
    "utl.process_all_log_files(\"data\")"
   ]
  },
  {
   "cell_type": "code",
   "execution_count": 2,
   "metadata": {},
   "outputs": [
    {
     "name": "stdout",
     "output_type": "stream",
     "text": [
      "summary.txt file successfully created in 18O\n"
     ]
    }
   ],
   "source": [
    "utl.summarize_txt_files(\"18O\")"
   ]
  },
  {
   "cell_type": "code",
   "execution_count": 4,
   "metadata": {},
   "outputs": [],
   "source": [
    "import os\n",
    "import re\n",
    "\n",
    "def process_frequencies(file_path, atom_positions, output_folder=\"Frequencies\"):\n",
    "    # Ensure the output folder exists\n",
    "    os.makedirs(output_folder, exist_ok=True)\n",
    "\n",
    "    # Modify the file name\n",
    "    base_name = os.path.basename(file_path).replace(\".log\", \"_seb.txt\")\n",
    "    output_file = os.path.join(output_folder, base_name)\n",
    "\n",
    "    with open(file_path, 'r') as f:\n",
    "        lines = f.readlines()\n",
    "\n",
    "    frequencies = []\n",
    "    atom_data = []\n",
    "\n",
    "    for i, line in enumerate(lines):\n",
    "        if line.strip().startswith(\"Frequencies --\"):\n",
    "            # Extract the frequencies\n",
    "            freqs = line.split()[2:]\n",
    "            frequencies.append(freqs)\n",
    "\n",
    "            # Look for atom data lines 6-8 lines below\n",
    "            for j in range(6, 9):\n",
    "                if i + j < len(lines):\n",
    "                    next_line = lines[i + j]\n",
    "                    if next_line.strip().startswith(\"Atom\"):\n",
    "                        # Collect data for desired atoms\n",
    "                        for atom_line in lines[i + j + 1:]:\n",
    "                            if atom_line.strip() == \"\":\n",
    "                                break\n",
    "                            atom_parts = atom_line.split()\n",
    "                            if atom_parts[0].isdigit():\n",
    "                                atom_id = int(atom_parts[0])\n",
    "                                if atom_id in atom_positions:\n",
    "                                    atom_data.append((freqs, atom_line.strip()))\n",
    "                        break\n",
    "\n",
    "    # Write the results to the output file\n",
    "    with open(output_file, 'w') as f:\n",
    "        for freq_set, data_line in atom_data:\n",
    "            f.write(f\"Frequencies: {', '.join(freq_set)}\\n\")\n",
    "            f.write(f\"Data: {data_line}\\n\\n\")\n",
    "\n",
    "# Example usage\n",
    "input_file = \"data\\\\OEC_S1_1d2prime_BP86_Carter1_freq_18O_five_exchangable.log\"\n",
    "atom_positions = [6, 97, 99, 101, 103]\n",
    "process_frequencies(input_file, atom_positions)"
   ]
  }
 ],
 "metadata": {
  "kernelspec": {
   "display_name": "tool",
   "language": "python",
   "name": "python3"
  },
  "language_info": {
   "codemirror_mode": {
    "name": "ipython",
    "version": 3
   },
   "file_extension": ".py",
   "mimetype": "text/x-python",
   "name": "python",
   "nbconvert_exporter": "python",
   "pygments_lexer": "ipython3",
   "version": "3.10.15"
  }
 },
 "nbformat": 4,
 "nbformat_minor": 2
}
