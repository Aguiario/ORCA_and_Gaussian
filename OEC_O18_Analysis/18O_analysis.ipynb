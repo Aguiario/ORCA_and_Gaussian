{
 "cells": [
  {
   "cell_type": "code",
   "execution_count": 1,
   "metadata": {},
   "outputs": [
    {
     "name": "stdout",
     "output_type": "stream",
     "text": [
      "Processing file: data\\OEC_S1_1d2prime_BP86_Carter1_freq_18O6.log\n",
      "Processing file: data\\OEC_S1_1d2prime_BP86_Carter1_freq_18O_five_exchangable.log\n",
      "Processing file: data\\OEC_S2_1d2prime_deprot_freq_18O6.log\n",
      "Processing file: data\\OEC_S2_1d2prime_deprot_freq_4_18O.log\n",
      "Processing file: data\\OEC_Shen_S3OO_try_spin3_18O18O_freq.log\n",
      "Processing file: data\\OEC_Shen_spin7_charge_minus1_freq_18O40.log\n",
      "Processing file: data\\OEC_Shen_spin7_charge_minus1_freq_18O_six_exchangable.log\n",
      "Processing file: data\\OEC_Shen_spin7_m1_freq_Mn1OH_18O_6_exchangable.log\n",
      "Processing file: data\\OEC_Shen_spin7_m1_freq_Mn1OH_isomer_18O110.log\n"
     ]
    }
   ],
   "source": [
    "import mining as utl\n",
    "\n",
    "utl.process_all_log_files(\"data\")"
   ]
  },
  {
   "cell_type": "code",
   "execution_count": 2,
   "metadata": {},
   "outputs": [
    {
     "name": "stdout",
     "output_type": "stream",
     "text": [
      "summary.txt file successfully created in 18O\n"
     ]
    }
   ],
   "source": [
    "utl.summarize_txt_files(\"18O\")"
   ]
  },
  {
   "cell_type": "code",
   "execution_count": 3,
   "metadata": {},
   "outputs": [
    {
     "name": "stdout",
     "output_type": "stream",
     "text": [
      "Processing file: data\\OEC_S1_1d2prime_BP86_Carter1_freq_18O6.log\n",
      "Processing file: data\\OEC_S1_1d2prime_BP86_Carter1_freq_18O_five_exchangable.log\n",
      "Processing file: data\\OEC_S2_1d2prime_deprot_freq_18O6.log\n",
      "Processing file: data\\OEC_S2_1d2prime_deprot_freq_4_18O.log\n",
      "Processing file: data\\OEC_Shen_S3OO_try_spin3_18O18O_freq.log\n",
      "Processing file: data\\OEC_Shen_spin7_charge_minus1_freq_18O40.log\n",
      "Processing file: data\\OEC_Shen_spin7_charge_minus1_freq_18O_six_exchangable.log\n",
      "Processing file: data\\OEC_Shen_spin7_m1_freq_Mn1OH_18O_6_exchangable.log\n",
      "Processing file: data\\OEC_Shen_spin7_m1_freq_Mn1OH_isomer_18O110.log\n"
     ]
    }
   ],
   "source": [
    "utl.process_all_frequencies(\"data\")"
   ]
  },
  {
   "cell_type": "code",
   "execution_count": 4,
   "metadata": {},
   "outputs": [
    {
     "data": {
      "text/plain": [
       "True"
      ]
     },
     "execution_count": 4,
     "metadata": {},
     "output_type": "execute_result"
    }
   ],
   "source": [
    "-0.00 == 0"
   ]
  }
 ],
 "metadata": {
  "kernelspec": {
   "display_name": "base",
   "language": "python",
   "name": "python3"
  },
  "language_info": {
   "codemirror_mode": {
    "name": "ipython",
    "version": 3
   },
   "file_extension": ".py",
   "mimetype": "text/x-python",
   "name": "python",
   "nbconvert_exporter": "python",
   "pygments_lexer": "ipython3",
   "version": "3.12.4"
  }
 },
 "nbformat": 4,
 "nbformat_minor": 2
}
