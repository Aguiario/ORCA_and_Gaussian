{
 "cells": [
  {
   "cell_type": "code",
   "execution_count": 1,
   "metadata": {},
   "outputs": [],
   "source": [
    "import generate_structures as gen"
   ]
  },
  {
   "cell_type": "code",
   "execution_count": 2,
   "metadata": {},
   "outputs": [
    {
     "name": "stdout",
     "output_type": "stream",
     "text": [
      "File 'Polyvinyl_chloride_chain_length5.gjf' successfully created.\n",
      "[('H', array([ 0. ,  0.6, -0.8]), 'C', array([0., 0., 0.]), 'Cl', array([ 0. , -1.6,  0. ])), ('H', array([1.2, 0.6, 0.8]), 'C', array([1.2, 0.6, 0. ]), 'H', array([1.2, 1.4, 0. ])), ('H', array([ 2.4,  0.6, -0.8]), 'C', array([2.4, 0. , 0. ]), 'Cl', array([ 2.4, -1.6,  0. ])), ('H', array([3.6, 0.6, 0.8]), 'C', array([3.6, 0.6, 0. ]), 'H', array([3.6, 1.4, 0. ])), ('H', array([ 4.8,  0.6, -0.8]), 'C', array([4.8, 0. , 0. ]), 'Cl', array([ 4.8, -1.6,  0. ]))]\n"
     ]
    }
   ],
   "source": [
    "# Define the length of the chain\n",
    "chain_length = 5  # Change this value to modify the chain length\n",
    "filename = f\"Polyvinyl_chloride_chain_length{chain_length}.gjf\"\n",
    "input_text = \"\"\"# hf/sto-3g opt freq\n",
    "\n",
    "Solvation Circle with Molecules\n",
    "\n",
    "0,1\n",
    "\"\"\"\n",
    "# Generate positions of atoms and save them to a file\n",
    "PVC5 = gen.polyvinyl_chloride(chain_length, filename, input_text)\n",
    "print(PVC5)"
   ]
  },
  {
   "cell_type": "code",
   "execution_count": 3,
   "metadata": {},
   "outputs": [
    {
     "name": "stdout",
     "output_type": "stream",
     "text": [
      "File 'Hg_N4_r3.gjf' created successfully.\n",
      "[('Hg', array([0, 0, 0])), ('C', array([3. , 1.2, 0. ])), ('C', array([4.2, 0.4, 0. ])), ('C', array([ 3.7, -1. ,  0. ])), ('C', array([ 2.3, -1. ,  0. ])), ('N', array([1.8, 0.4, 0. ])), ('C', array([1.8369702e-16, 4.2000000e+00, 0.0000000e+00])), ('C', array([1.2, 3.4, 0. ])), ('C', array([0.7, 2. , 0. ])), ('C', array([-0.7,  2. ,  0. ])), ('N', array([-1.2,  3.4,  0. ])), ('C', array([-3. ,  1.2,  0. ])), ('C', array([-1.8,  0.4,  0. ])), ('C', array([-2.3, -1. ,  0. ])), ('C', array([-3.7, -1. ,  0. ])), ('N', array([-4.2,  0.4,  0. ])), ('C', array([-5.5109106e-16, -1.8000000e+00,  0.0000000e+00])), ('C', array([ 1.2, -2.6,  0. ])), ('C', array([ 0.7, -4. ,  0. ])), ('C', array([-0.7, -4. ,  0. ])), ('N', array([-1.2, -2.6,  0. ]))]\n"
     ]
    }
   ],
   "source": [
    "# Parameters for molecule distribution\n",
    "n = 4  # Number of molecules\n",
    "radius = 3  # Circle radius\n",
    "molecular_central_atom = \"N\"  # Example: 'N' (pyrrole), 'S' (thiophene), 'O' (furan)\n",
    "central_atom = \"Hg\"\n",
    "filename = f\"{central_atom}_{molecular_central_atom}{n}_r{radius}.gjf\"\n",
    "input_text = \"\"\"# hf/sto-3g opt freq\n",
    "\n",
    "Solvation Circle with Molecules\n",
    "\n",
    "0,1\n",
    "\"\"\"\n",
    "# Generate and save molecule positions\n",
    "HgN4 = gen.Solvation_Spheres(n, radius, central_atom, molecular_central_atom, filename, input_text)\n",
    "print(HgN4)"
   ]
  }
 ],
 "metadata": {
  "kernelspec": {
   "display_name": "Optica",
   "language": "python",
   "name": "python3"
  },
  "language_info": {
   "codemirror_mode": {
    "name": "ipython",
    "version": 3
   },
   "file_extension": ".py",
   "mimetype": "text/x-python",
   "name": "python",
   "nbconvert_exporter": "python",
   "pygments_lexer": "ipython3",
   "version": "3.12.7"
  }
 },
 "nbformat": 4,
 "nbformat_minor": 2
}
